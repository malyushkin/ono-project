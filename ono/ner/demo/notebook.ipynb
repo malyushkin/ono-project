{
 "cells": [
  {
   "cell_type": "code",
   "execution_count": null,
   "id": "6f6d69db-6319-48e6-9e8e-aee4388c7bfc",
   "metadata": {},
   "outputs": [],
   "source": [
    "! pip install pullenti_client graphviz "
   ]
  },
  {
   "cell_type": "code",
   "execution_count": null,
   "id": "84456ff5-8ba9-4ac4-8505-ad0ba1a7faba",
   "metadata": {},
   "outputs": [],
   "source": [
    "from pullenti_client import Client"
   ]
  },
  {
   "cell_type": "code",
   "execution_count": null,
   "id": "29fea8b5-0a0f-4b58-8339-284c3ede9a7f",
   "metadata": {},
   "outputs": [],
   "source": [
    "pullenti_client = Client(\"pullenti\", 8080)"
   ]
  },
  {
   "cell_type": "code",
   "execution_count": null,
   "id": "6eaa09da-6c78-4e12-8237-48478f22aabe",
   "metadata": {},
   "outputs": [],
   "source": [
    "demo_text = \"\"\"\n",
    "Министр внутренних дел федеральной земли Бранденбург Михаэль Штюбген обеспокоен все \n",
    "менее контролируемой ситуацией с наплывом нелегальных мигрантов через границу с \n",
    "соседней Польшей. \"Ситуация на границе систематически ухудшается уже многие месяцы. \n",
    "В результате число новоприбывших, регистрируемых в приемных центрах Бранденбурга, \n",
    "значительно выросло\", - заявил он в интервью газете Neue Osnabrücker Zeitung, \n",
    "обнародованном в субботу, 16 сентября.\n",
    "\n",
    "По словам Штюбгена, сейчас федеральная полиция ежедневно направляет в приемный центр в \n",
    "среднем по 58 мигрантов, тогда как только в июле ежедневное число предполагаемых \n",
    "нелегалов составляло 22 человека.\n",
    "\"\"\"\n",
    "\n",
    "result = pullenti_client(demo_text)"
   ]
  },
  {
   "cell_type": "code",
   "execution_count": null,
   "id": "9f4a2478-9dec-4fda-8b9b-9626d54ea5eb",
   "metadata": {},
   "outputs": [],
   "source": [
    "result"
   ]
  },
  {
   "cell_type": "code",
   "execution_count": null,
   "id": "6a117289-4b83-4ba3-aeef-5a574394cc3b",
   "metadata": {},
   "outputs": [],
   "source": [
    "result.matches[1].referent.graph"
   ]
  }
 ],
 "metadata": {
  "kernelspec": {
   "display_name": "Python 3 (ipykernel)",
   "language": "python",
   "name": "python3"
  },
  "language_info": {
   "codemirror_mode": {
    "name": "ipython",
    "version": 3
   },
   "file_extension": ".py",
   "mimetype": "text/x-python",
   "name": "python",
   "nbconvert_exporter": "python",
   "pygments_lexer": "ipython3",
   "version": "3.11.5"
  }
 },
 "nbformat": 4,
 "nbformat_minor": 5
}
