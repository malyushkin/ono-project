{
 "cells": [
  {
   "cell_type": "code",
   "execution_count": null,
   "id": "a359ab34",
   "metadata": {},
   "outputs": [],
   "source": [
    "import re"
   ]
  },
  {
   "cell_type": "code",
   "execution_count": 220,
   "id": "6886e7cd",
   "metadata": {},
   "outputs": [],
   "source": [
    "news_text = \"Навальный предъявил справку об уплате налогов в России. Опровергая свою же пресс-службу\""
   ]
  },
  {
   "cell_type": "code",
   "execution_count": 223,
   "id": "f713bdb2",
   "metadata": {},
   "outputs": [],
   "source": [
    "def extend_name(text: str, pattern: str, check_name: str, add_name: str):\n",
    "    news_by_words = text.split(\" \")\n",
    "    matches_by_words = [type(re.search(pattern, w)) for w in news_by_words]\n",
    "    \n",
    "    if re.Match not in matches_by_words:\n",
    "        return text\n",
    "    \n",
    "    idx = matches_by_words.index(re.Match)\n",
    "    result = None\n",
    "    \n",
    "    if idx == 0:\n",
    "        result = (re.search(check_name, news_by_words[idx + 1]))\n",
    "    elif idx == len(news_by_words) - 1:\n",
    "        result = (re.search(check_name, news_by_words[idx - 1]))\n",
    "    else:\n",
    "        result = (re.search(check_name, news_by_words[idx - 1]) or\n",
    "                  re.search(check_name, news_by_words[idx + 1]))\n",
    "    \n",
    "    if not result:\n",
    "        news_by_words.insert(idx, add_name)\n",
    "        return \" \".join(news_by_words)\n",
    "    \n",
    "    return text"
   ]
  },
  {
   "cell_type": "code",
   "execution_count": 224,
   "id": "e14f7b65",
   "metadata": {},
   "outputs": [
    {
     "data": {
      "text/plain": [
       "'Алексей Навальный предъявил справку об уплате налогов в России. Опровергая свою же пресс-службу'"
      ]
     },
     "execution_count": 224,
     "metadata": {},
     "output_type": "execute_result"
    }
   ],
   "source": [
    "extend_name(news_text, \"Навальн\", \"Алекс\", \"Алексей\")"
   ]
  },
  {
   "cell_type": "code",
   "execution_count": null,
   "id": "12e55391",
   "metadata": {},
   "outputs": [],
   "source": []
  },
  {
   "cell_type": "code",
   "execution_count": 199,
   "id": "30a58649",
   "metadata": {},
   "outputs": [
    {
     "data": {
      "text/plain": [
       "15"
      ]
     },
     "execution_count": 199,
     "metadata": {},
     "output_type": "execute_result"
    }
   ],
   "source": [
    "len(news_text.split(\" \"))"
   ]
  },
  {
   "cell_type": "code",
   "execution_count": 175,
   "id": "c7a1e41d",
   "metadata": {},
   "outputs": [
    {
     "data": {
      "text/plain": [
       "False"
      ]
     },
     "execution_count": 175,
     "metadata": {},
     "output_type": "execute_result"
    }
   ],
   "source": [
    "re.Match in [type(re.search(\"Навальн\", w)) for w in news_text.split(\" \")]"
   ]
  },
  {
   "cell_type": "code",
   "execution_count": null,
   "id": "a237fb37",
   "metadata": {},
   "outputs": [],
   "source": []
  },
  {
   "cell_type": "code",
   "execution_count": null,
   "id": "9f02c28e",
   "metadata": {},
   "outputs": [],
   "source": []
  },
  {
   "cell_type": "code",
   "execution_count": null,
   "id": "29391507",
   "metadata": {},
   "outputs": [],
   "source": []
  },
  {
   "cell_type": "code",
   "execution_count": 152,
   "id": "ebc7f6a1",
   "metadata": {},
   "outputs": [],
   "source": [
    "news_by_words = news_text.split(\" \")"
   ]
  },
  {
   "cell_type": "code",
   "execution_count": 153,
   "id": "b402b1d4",
   "metadata": {},
   "outputs": [
    {
     "data": {
      "text/plain": [
       "1"
      ]
     },
     "execution_count": 153,
     "metadata": {},
     "output_type": "execute_result"
    }
   ],
   "source": [
    "key_index = -1\n",
    "key_index = [type(re.search(\"Навальн\", word)) for word in news_by_words].index(re.Match)\n",
    "key_index"
   ]
  },
  {
   "cell_type": "code",
   "execution_count": 154,
   "id": "c2c52da2",
   "metadata": {},
   "outputs": [
    {
     "data": {
      "text/plain": [
       "17"
      ]
     },
     "execution_count": 154,
     "metadata": {},
     "output_type": "execute_result"
    }
   ],
   "source": [
    "len(news_by_words)"
   ]
  },
  {
   "cell_type": "code",
   "execution_count": 155,
   "id": "facd3a4b",
   "metadata": {},
   "outputs": [],
   "source": [
    "if key_index > 0 and key_index < len(news_by_words) - 1:\n",
    "    result = re.search(\"Алекс\", news_by_words[key_index-1]) or re.search(\"Алекс\", news_by_words[key_index+1]) \n",
    "elif key_index == 0:\n",
    "    result = re.search(\"Алекс\", news_by_words[key_index+1])\n",
    "elif key_index == len(news_by_words) - 1:\n",
    "    result = re.search(\"Алекс\", news_by_words[key_index-1])\n",
    "\n",
    "if not result:\n",
    "    news_by_words.insert(key_index, \"Алексей\")"
   ]
  },
  {
   "cell_type": "code",
   "execution_count": 156,
   "id": "70bed87f",
   "metadata": {},
   "outputs": [
    {
     "data": {
      "text/plain": [
       "['Алекс',\n",
       " 'Навальным',\n",
       " 'Усманов',\n",
       " 'на',\n",
       " 'суде',\n",
       " 'с',\n",
       " 'предъявил',\n",
       " 'справку',\n",
       " 'об',\n",
       " 'уплате',\n",
       " 'налогов',\n",
       " 'в',\n",
       " 'России.',\n",
       " 'Опровергая',\n",
       " 'свою',\n",
       " 'же',\n",
       " 'пресс-службу']"
      ]
     },
     "execution_count": 156,
     "metadata": {},
     "output_type": "execute_result"
    }
   ],
   "source": [
    "news_by_words"
   ]
  },
  {
   "cell_type": "code",
   "execution_count": 149,
   "id": "d73c4634",
   "metadata": {},
   "outputs": [
    {
     "data": {
      "text/plain": [
       "'Алексей Навальным Усманов на суде с предъявил справку об уплате налогов в России. Опровергая свою же пресс-службу'"
      ]
     },
     "execution_count": 149,
     "metadata": {},
     "output_type": "execute_result"
    }
   ],
   "source": [
    "\" \".join(news_by_words)"
   ]
  },
  {
   "cell_type": "code",
   "execution_count": null,
   "id": "c17b4492",
   "metadata": {},
   "outputs": [],
   "source": []
  }
 ],
 "metadata": {
  "kernelspec": {
   "display_name": "Python 3 (ipykernel)",
   "language": "python",
   "name": "python3"
  },
  "language_info": {
   "codemirror_mode": {
    "name": "ipython",
    "version": 3
   },
   "file_extension": ".py",
   "mimetype": "text/x-python",
   "name": "python",
   "nbconvert_exporter": "python",
   "pygments_lexer": "ipython3",
   "version": "3.11.5"
  }
 },
 "nbformat": 4,
 "nbformat_minor": 5
}
