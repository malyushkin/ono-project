{
 "cells": [
  {
   "cell_type": "code",
   "execution_count": 7,
   "id": "76b91082",
   "metadata": {},
   "outputs": [
    {
     "name": "stdout",
     "output_type": "stream",
     "text": [
      "Requirement already satisfied: pullenti_client in /opt/homebrew/lib/python3.10/site-packages (0.6.0)\r\n",
      "Requirement already satisfied: requests in /opt/homebrew/lib/python3.10/site-packages (from pullenti_client) (2.28.1)\r\n",
      "Requirement already satisfied: charset-normalizer<3,>=2 in /opt/homebrew/lib/python3.10/site-packages (from requests->pullenti_client) (2.1.1)\r\n",
      "Requirement already satisfied: idna<4,>=2.5 in /opt/homebrew/lib/python3.10/site-packages (from requests->pullenti_client) (3.4)\r\n",
      "Requirement already satisfied: urllib3<1.27,>=1.21.1 in /opt/homebrew/lib/python3.10/site-packages (from requests->pullenti_client) (1.26.12)\r\n",
      "Requirement already satisfied: certifi>=2017.4.17 in /opt/homebrew/lib/python3.10/site-packages (from requests->pullenti_client) (2023.7.22)\r\n"
     ]
    }
   ],
   "source": [
    "! pip install pullenti_client"
   ]
  },
  {
   "cell_type": "code",
   "execution_count": 2,
   "id": "a628ebd3-cd60-4cf8-8f03-13cf066271cf",
   "metadata": {
    "scrolled": true
   },
   "outputs": [],
   "source": [
    "from pullenti_client import Client\n",
    "from pullenti_client.referent import Referent, Slot\n",
    "from pullenti_client.result import Match, Result\n",
    "\n",
    "import pandas as pd\n",
    "from typing import Any, Optional, List, Union\n",
    "\n",
    "class PullentiAnalyzer:\n",
    "    PULLENTI_KEYS = {\n",
    "        \"GEO\",\n",
    "        \"ORGANIZATION\",\n",
    "        \"PERSON\"\n",
    "    }\n",
    "\n",
    "    GEO_RULES = {\"NA\": [\"name\", \"type\"]}\n",
    "    ORGANIZATION_RULES = {\"NA\": [\"name\"]}\n",
    "    PERSON_RULES = {\"NA\": [\"firstname\"]}\n",
    "\n",
    "    def __init__(\n",
    "            self,\n",
    "            text: str,\n",
    "            analyzers: Optional[List[str]] = None,\n",
    "            pullenti_kwargs: Optional[dict] = None\n",
    "    ):\n",
    "        \"\"\"\n",
    "        Args:\n",
    "            text:\n",
    "            analyzers:\n",
    "        Returns:\n",
    "            A new cursor object using the connection\n",
    "        \"\"\"\n",
    "\n",
    "        self.text = text\n",
    "        self.analyzers = analyzers if analyzers else self.PULLENTI_KEYS\n",
    "        self.pullenti_client = None\n",
    "\n",
    "        # Check analyzers\n",
    "        if analyzers:\n",
    "            if not all(key in analyzers for key in self.PULLENTI_KEYS):\n",
    "                raise KeyError\n",
    "\n",
    "        # Init pullenti\n",
    "        try:\n",
    "            self.pullenti_client = Client(**pullenti_kwargs)\n",
    "        except Exception:\n",
    "            raise Exception\n",
    "\n",
    "    @staticmethod\n",
    "    def _append_matches(matches: list, match: Match, analyzer: Optional[str]):\n",
    "        if analyzer:\n",
    "            if match.referent.label == analyzer:\n",
    "                matches.append(match)\n",
    "        else:\n",
    "            matches.append(match)\n",
    "        return matches\n",
    "\n",
    "    @staticmethod\n",
    "    def _data_helper(dataframe: pd.DataFrame, rules):\n",
    "        dataframe.dropna(subset=rules[\"NA\"], how=\"any\", inplace=True)\n",
    "        dataframe.dropna(how=\"all\", axis=1, inplace=True)\n",
    "        dataframe.drop_duplicates(subset=rules[\"NA\"], inplace=True)\n",
    "        return dataframe\n",
    "\n",
    "    def result(self) -> Result:\n",
    "        return self.pullenti_client(self.text)\n",
    "\n",
    "    def matches(self, analyzer: Optional[str] = None) -> Optional[List[Match]]:\n",
    "        matches = []\n",
    "        for match in self.result().matches:\n",
    "            matches = self._append_matches(matches, match, analyzer)\n",
    "            for child_match in match.children:\n",
    "                matches = self._append_matches(matches, child_match, analyzer)\n",
    "        return matches\n",
    "\n",
    "    def slots(self, analyzer: Optional[str]) -> Optional[List[Slot]]:\n",
    "        return [match.referent.slots for match in self.matches(analyzer)]\n",
    "\n",
    "    def data(self, analyzer: Optional[str]) -> Optional[pd.DataFrame]:\n",
    "        if not self.slots(analyzer):\n",
    "            return None\n",
    "\n",
    "        data: list[dict] = []\n",
    "        for slots in self.slots(analyzer):\n",
    "            ner_row = {\"tag\": analyzer}\n",
    "\n",
    "            for slot in slots:\n",
    "                if slot.key.lower() not in ner_row:\n",
    "                    ner_row[slot.key.lower()] = slot.value\n",
    "                elif slot.key.lower() + \"_vars\" not in ner_row:\n",
    "                    ner_row[slot.key.lower() + \"_vars\"] = [slot.value]\n",
    "                elif slot.key.lower() + \"_vars\" in ner_row:\n",
    "                    ner_row[slot.key.lower() + \"_vars\"].append(slot.value)\n",
    "\n",
    "                if slot.key.lower() == \"attribute\":\n",
    "                    attributes = [\n",
    "                        slot.value for slot in slot.value.slots\n",
    "                        if type(slot.value) is not Referent\n",
    "                    ]\n",
    "                    ner_row[slot.key.lower() + \"_vars\"] = attributes\n",
    "                    del ner_row[slot.key.lower()]\n",
    "\n",
    "            if \"higher\" not in ner_row.keys():\n",
    "                data.append(ner_row)\n",
    "\n",
    "        dataframe = pd.DataFrame.from_dict(data=data)\n",
    "\n",
    "        if analyzer == \"GEO\":\n",
    "            dataframe = self._data_helper(dataframe, self.GEO_RULES)\n",
    "        elif analyzer == \"ORGANIZATION\":\n",
    "            dataframe = self._data_helper(dataframe, self.ORGANIZATION_RULES)\n",
    "        elif analyzer == \"PERSON\":\n",
    "            dataframe = self._data_helper(dataframe, self.PERSON_RULES)\n",
    "\n",
    "        return dataframe"
   ]
  },
  {
   "cell_type": "code",
   "execution_count": 6,
   "id": "f4522fad-2dae-4b87-9400-a4153bdb4a4e",
   "metadata": {},
   "outputs": [],
   "source": [
    "PULLENTI_CONFIG = {\"host\": \"localhost\", \"port\": 8081}"
   ]
  },
  {
   "cell_type": "code",
   "execution_count": 7,
   "id": "a04b61b4",
   "metadata": {},
   "outputs": [],
   "source": [
    "some_text = \"Усманов на суде с Навальным предъявил справку об уплате налогов в России. Опровергая свою же пресс-службу\""
   ]
  },
  {
   "cell_type": "code",
   "execution_count": 8,
   "id": "c0d02570-e2ef-4d77-b854-d78ce71e15fe",
   "metadata": {},
   "outputs": [],
   "source": [
    "analyzer = PullentiAnalyzer(some_text, [], PULLENTI_CONFIG)"
   ]
  },
  {
   "cell_type": "code",
   "execution_count": 13,
   "id": "c29266aa-ed81-493c-b218-e6b4e18d8a60",
   "metadata": {},
   "outputs": [
    {
     "data": {
      "text/plain": [
       "[Match(\n",
       "     referent=Referent(\n",
       "         label='GEO',\n",
       "         slots=[Slot(\n",
       "              key='ALPHA2',\n",
       "              value='RU'\n",
       "          ),\n",
       "          Slot(\n",
       "              key='NAME',\n",
       "              value='РФ'\n",
       "          ),\n",
       "          Slot(\n",
       "              key='NAME',\n",
       "              value='РОССИЙСКАЯ ФЕДЕРАЦИЯ'\n",
       "          ),\n",
       "          Slot(\n",
       "              key='NAME',\n",
       "              value='РОССИЯ'\n",
       "          ),\n",
       "          Slot(\n",
       "              key='TYPE',\n",
       "              value='государство'\n",
       "          )]\n",
       "     ),\n",
       "     span=Span(\n",
       "         start=66,\n",
       "         stop=72\n",
       "     ),\n",
       "     children=[]\n",
       " )]"
      ]
     },
     "execution_count": 13,
     "metadata": {},
     "output_type": "execute_result"
    }
   ],
   "source": [
    "analyzer.matches()\n",
    "# test.data(\"ORGANIZATION\")\n",
    "# test.data(\"PERSON\")"
   ]
  },
  {
   "cell_type": "code",
   "execution_count": 9,
   "id": "95ceced5-11c0-4de2-ad97-8affe6bd5a02",
   "metadata": {},
   "outputs": [],
   "source": [
    "data = test.data(\"GEO\")"
   ]
  },
  {
   "cell_type": "code",
   "execution_count": 16,
   "id": "8a5604bc-83e8-4100-8713-334c7915063b",
   "metadata": {},
   "outputs": [
    {
     "data": {
      "text/plain": [
       "'9b1a1b47-a758-42f4-b446-da808e34d966'"
      ]
     },
     "execution_count": 16,
     "metadata": {},
     "output_type": "execute_result"
    }
   ],
   "source": [
    "import uuid\n",
    "\n",
    "myuuid = uuid.uuid4()\n",
    "\n",
    "str(myuuid)"
   ]
  },
  {
   "cell_type": "code",
   "execution_count": 17,
   "id": "ce799fb6-8eb5-4686-8534-fdb7f4ce51fd",
   "metadata": {},
   "outputs": [],
   "source": [
    "# article: article_id|rima_article_id|title|plain_text|published_dt \n",
    "# entity: entity_id|tag|name / [firts name + last name] |name_vars|type|type_vars\n",
    "\n",
    "# entity_attribute entity_id|key[lastname|firstname|middlename|sex|attribute_vars]|value\n",
    "\n",
    "# article_x_entity_person: article_id|article_id"
   ]
  },
  {
   "cell_type": "code",
   "execution_count": null,
   "id": "b7929c32-d772-4f5d-960c-a6b7ec1dd783",
   "metadata": {},
   "outputs": [],
   "source": []
  }
 ],
 "metadata": {
  "kernelspec": {
   "display_name": "Python 3 (ipykernel)",
   "language": "python",
   "name": "python3"
  },
  "language_info": {
   "codemirror_mode": {
    "name": "ipython",
    "version": 3
   },
   "file_extension": ".py",
   "mimetype": "text/x-python",
   "name": "python",
   "nbconvert_exporter": "python",
   "pygments_lexer": "ipython3",
   "version": "3.11.5"
  }
 },
 "nbformat": 4,
 "nbformat_minor": 5
}
